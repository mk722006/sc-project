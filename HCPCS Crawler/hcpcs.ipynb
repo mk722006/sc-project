{
 "cells": [
  {
   "cell_type": "code",
   "execution_count": 1,
   "metadata": {},
   "outputs": [],
   "source": [
    "import zipfile\n",
    "import os\n",
    "import pandas as pd\n",
    "import xlrd\n",
    "import re\n",
    "import requests\n",
    "import time\n",
    "import shutil\n",
    "from bs4 import BeautifulSoup\n",
    "\n",
    "final_output_path = 'Final Output'\n",
    "zip_download_directory = 'download_directory_zip_files'"
   ]
  },
  {
   "cell_type": "markdown",
   "metadata": {},
   "source": [
    "# Functions: getting_file_info | download_file"
   ]
  },
  {
   "cell_type": "code",
   "execution_count": 2,
   "metadata": {},
   "outputs": [],
   "source": [
    "def download_file(url, directory, filename):\n",
    "    file_path = os.path.join(directory, filename)\n",
    "\n",
    "    # Send an HTTP GET request to the URL\n",
    "    response = requests.get(url, stream=True)\n",
    "\n",
    "    # Check if the request was successful\n",
    "    if response.status_code == 200:\n",
    "        with open(file_path, 'wb') as file:\n",
    "            # Write the content of the response to the file\n",
    "            for chunk in response.iter_content(chunk_size=8192):\n",
    "                file.write(chunk)\n",
    "        print(f\"File downloaded successfully to: {file_path}\")\n",
    "    else:\n",
    "        print(f\"Failed to download the file. Status code: {response.status_code}\")\n",
    "        \n",
    "        \n",
    "def getting_file_info(url, zip_download_directory):\n",
    "    \n",
    "    # removing - zip_download_directory if available | Removing any Previous Files\n",
    "    if zip_download_directory in os.listdir():\n",
    "        shutil.rmtree(zip_download_directory)\n",
    "    \n",
    "    os.makedirs(zip_download_directory, exist_ok=True)\n",
    "    \n",
    "    response = requests.get(url, stream=True)\n",
    "    soup = BeautifulSoup(response.text, 'lxml')\n",
    "\n",
    "    file_info = []\n",
    "    file_links = soup.select('a[data-entity-type=\"media\"]')[0:3]\n",
    "    for file in file_links:\n",
    "        title = file.text.strip()\n",
    "        link = 'https://www.cms.gov'+file['href']\n",
    "        file_name = re.sub(r'[^\\w\\s-]', '', title).strip().replace(' ', '_')\n",
    "        file_name = file_name +'.zip'\n",
    "        file_info.append([title, link, file_name])\n",
    "    \n",
    "    ## Downloading Zil Files ## \n",
    "    for i in range(len(file_info)):\n",
    "        downloading_zip_file = download_file(file_info[i][1], zip_download_directory, file_info[i][2])\n",
    "        \n",
    "    return file_info"
   ]
  },
  {
   "cell_type": "markdown",
   "metadata": {},
   "source": [
    "# Running - getting_file_info | Downloading all Zip files (first 3)"
   ]
  },
  {
   "cell_type": "code",
   "execution_count": 3,
   "metadata": {},
   "outputs": [
    {
     "name": "stdout",
     "output_type": "stream",
     "text": [
      "File downloaded successfully to: download_directory_zip_files\\July_2023_Alpha-Numeric_HCPCS_File_ZIP.zip\n",
      "File downloaded successfully to: download_directory_zip_files\\April_2023_Alpha-Numeric_HCPCS_File_ZIP.zip\n",
      "File downloaded successfully to: download_directory_zip_files\\January_2023_Alpha-Numeric_HCPCS_File_ZIP.zip\n"
     ]
    }
   ],
   "source": [
    "file_info = getting_file_info('https://www.cms.gov/medicare/coding/hcpcsreleasecodesets/hcpcs-quarterly-update', zip_download_directory)"
   ]
  },
  {
   "cell_type": "markdown",
   "metadata": {},
   "source": [
    "## Extracting Zip files into respective Folders | Final Output"
   ]
  },
  {
   "cell_type": "code",
   "execution_count": 4,
   "metadata": {},
   "outputs": [
    {
     "name": "stdout",
     "output_type": "stream",
     "text": [
      "Completed Running\n"
     ]
    }
   ],
   "source": [
    "if final_output_path in os.listdir():\n",
    "    shutil.rmtree(final_output_path)\n",
    "    time.sleep(2)\n",
    "os.makedirs(final_output_path, exist_ok=True)\n",
    "\n",
    "\n",
    "df = pd.DataFrame(file_info, columns = ['title', 'url','file_name'])\n",
    "for i, file_path in enumerate(os.listdir(zip_download_directory)):\n",
    "    if '.zip' in file_path:\n",
    "        \n",
    "        folder_path = f\"{final_output_path}/{df[df['file_name'] == file_path]['file_name'].values[0]}\".replace('.zip','')\n",
    "        ## Creating a Folder | Extracting Zip Files in this Folder\n",
    "        os.makedirs(folder_path, exist_ok=True)\n",
    "        \n",
    "        ## Extracting Zip Files\n",
    "        with zipfile.ZipFile(f'{zip_download_directory}\\{file_path}', 'r') as zip_ref:\n",
    "            zip_ref.extractall(folder_path)\n",
    "            \n",
    "        ## Removing all the files except Excels (.xlsx)\n",
    "        for file_available in os.listdir(folder_path):\n",
    "            if '.xlsx' not in file_available:\n",
    "                os.remove(f'{folder_path}/{file_available}')\n",
    "\n",
    "## removing - zip_download_directory if available | Removing any Previous Files\n",
    "if zip_download_directory in os.listdir():\n",
    "    shutil.rmtree(zip_download_directory)\n",
    "\n",
    "print(f'Completed Running')"
   ]
  }
 ],
 "metadata": {
  "kernelspec": {
   "display_name": "Python 3",
   "language": "python",
   "name": "python3"
  },
  "language_info": {
   "codemirror_mode": {
    "name": "ipython",
    "version": 3
   },
   "file_extension": ".py",
   "mimetype": "text/x-python",
   "name": "python",
   "nbconvert_exporter": "python",
   "pygments_lexer": "ipython3",
   "version": "3.10.11"
  },
  "orig_nbformat": 4
 },
 "nbformat": 4,
 "nbformat_minor": 2
}
