{
 "cells": [
  {
   "cell_type": "code",
   "execution_count": null,
   "metadata": {},
   "outputs": [],
   "source": [
    "from pyspark.sql import SparkSession\n",
    "from pyspark.sql.functions import col\n",
    "import os\n",
    "\n",
    "# Configure Spark to use the local file system\n",
    "spark = SparkSession.builder \\\n",
    "    .appName(\"JSONToCSV\") \\\n",
    "    .config(\"spark.hadoop.fs.file.impl\", \"org.apache.hadoop.fs.LocalFileSystem\") \\\n",
    "    .getOrCreate()\n",
    "\n",
    "# File path for JSON\n",
    "json_file_path = \"C:/Users/algo/Desktop/VS Code/PIP Task/data.json\"\n",
    "\n",
    "# Output folder for CSV files\n",
    "output_folder = \"output\"\n",
    "\n",
    "# Read JSON file as DataFrame\n",
    "data_df = spark.read.json(json_file_path)\n",
    "\n",
    "# Create the output folder if it doesn't exist\n",
    "if not os.path.exists(output_folder):\n",
    "    os.makedirs(output_folder)\n",
    "\n",
    "# Iterate over the DataFrame and create CSV files\n",
    "for key in data_df.columns:\n",
    "    check_name = key\n",
    "    file_path = os.path.join(output_folder, f\"{check_name}.csv\")\n",
    "\n",
    "    # Select the column and write to CSV\n",
    "    data_df.select(col(check_name).alias(\"Value\")).write.mode(\"overwrite\").csv(file_path, header=True)\n",
    "\n",
    "print(\"CSV files created successfully in the 'output' folder.\")\n",
    "\n",
    "# Closing the Spark session\n",
    "spark.stop()\n"
   ]
  },
  {
   "cell_type": "code",
   "execution_count": 43,
   "metadata": {},
   "outputs": [
    {
     "name": "stdout",
     "output_type": "stream",
     "text": [
      "CSV files created successfully in the 'output' folder.\n"
     ]
    }
   ],
   "source": [
    "import csv\n",
    "import os\n",
    "\n",
    "# File path\n",
    "file_path = r'C:\\Users\\algo\\Desktop\\VS Code\\PIP Task\\data.json'\n",
    "\n",
    "# Output folder\n",
    "output_folder = \"output\"\n",
    "\n",
    "# Load data from JSON file\n",
    "with open(file_path, 'r') as json_file:\n",
    "    import json\n",
    "    data = json.load(json_file)\n",
    "\n",
    "# Create the output folder if it doesn't exist\n",
    "if not os.path.exists(output_folder):\n",
    "    os.makedirs(output_folder)\n",
    "\n",
    "# Iterate over the dictionary and create CSV files\n",
    "for key, value in data.items():\n",
    "    file_path = os.path.join(output_folder, f\"{key}.csv\")\n",
    "\n",
    "    with open(file_path, 'w', newline='') as csvfile:\n",
    "        csv_writer = csv.writer(csvfile)\n",
    "        \n",
    "        # Write header\n",
    "        csv_writer.writerow([\"column_name\"])\n",
    "        \n",
    "        # Write data\n",
    "        for query in value:\n",
    "            csv_writer.writerow([query])\n",
    "\n",
    "print(\"CSV files created successfully in the 'output' folder.\")\n"
   ]
  }
 ],
 "metadata": {
  "kernelspec": {
   "display_name": "Python 3",
   "language": "python",
   "name": "python3"
  },
  "language_info": {
   "codemirror_mode": {
    "name": "ipython",
    "version": 3
   },
   "file_extension": ".py",
   "mimetype": "text/x-python",
   "name": "python",
   "nbconvert_exporter": "python",
   "pygments_lexer": "ipython3",
   "version": "3.10.8"
  }
 },
 "nbformat": 4,
 "nbformat_minor": 2
}
