{
 "cells": [
  {
   "cell_type": "code",
   "execution_count": 22,
   "metadata": {},
   "outputs": [],
   "source": [
    "import zipfile\n",
    "import os\n",
    "import pandas as pd\n",
    "import xlrd\n",
    "import re\n",
    "import requests\n",
    "import time\n",
    "import shutil\n",
    "\n",
    "final_output_path = 'Final Output'\n",
    "os.makedirs(final_output_path, exist_ok=True)\n",
    "\n",
    "\n",
    "zip_download_directory = 'download_directory_zip_files'\n",
    "zip_file_path = f'{zip_download_directory}/ndctext.zip'\n",
    "extract_to_directory = f'{zip_download_directory}/extracted_files'\n",
    "\n",
    "# removing - zip_download_directory if available | Removing any Previous Files\n",
    "if zip_download_directory in os.listdir():\n",
    "    shutil.rmtree(zip_download_directory)\n",
    "\n",
    "os.makedirs(zip_download_directory, exist_ok=True)"
   ]
  },
  {
   "cell_type": "markdown",
   "metadata": {},
   "source": [
    "## Function to download Zip File: https://www.accessdata.fda.gov/cder/ndctext.zip"
   ]
  },
  {
   "cell_type": "code",
   "execution_count": 23,
   "metadata": {},
   "outputs": [
    {
     "name": "stdout",
     "output_type": "stream",
     "text": [
      "File downloaded successfully to: download_directory_zip_files\\ndctext.zip\n"
     ]
    }
   ],
   "source": [
    "def download_file(url, directory):\n",
    "    filename = url.split('/')[-1]\n",
    "    file_path = os.path.join(directory, filename)\n",
    "\n",
    "    # Send an HTTP GET request to the URL\n",
    "    response = requests.get(url, stream=True)\n",
    "\n",
    "    # Check if the request was successful\n",
    "    if response.status_code == 200:\n",
    "        with open(file_path, 'wb') as file:\n",
    "            # Write the content of the response to the file\n",
    "            for chunk in response.iter_content(chunk_size=8192):\n",
    "                file.write(chunk)\n",
    "        print(f\"File downloaded successfully to: {file_path}\")\n",
    "    else:\n",
    "        print(f\"Failed to download the file. Status code: {response.status_code}\")\n",
    "\n",
    "## Downloading Txt File ## \n",
    "downloading_zip_file = download_file('https://www.accessdata.fda.gov/cder/ndctext.zip', zip_download_directory)"
   ]
  },
  {
   "cell_type": "markdown",
   "metadata": {},
   "source": [
    "## Extracting the Zip File  ## "
   ]
  },
  {
   "cell_type": "code",
   "execution_count": 24,
   "metadata": {},
   "outputs": [
    {
     "name": "stdout",
     "output_type": "stream",
     "text": [
      "Total Txt Found: 2\n"
     ]
    }
   ],
   "source": [
    "os.makedirs(extract_to_directory, exist_ok=True)\n",
    "with zipfile.ZipFile(zip_file_path, 'r') as zip_ref:\n",
    "    zip_ref.extractall(extract_to_directory)\n",
    "    \n",
    "list_of_txt_files = os.listdir(extract_to_directory)\n",
    "print(f'Total Txt Found: {len(list_of_txt_files)}')"
   ]
  },
  {
   "cell_type": "markdown",
   "metadata": {},
   "source": [
    "## Reading TXT files: Two files | Two DataFrames"
   ]
  },
  {
   "cell_type": "code",
   "execution_count": 25,
   "metadata": {},
   "outputs": [],
   "source": [
    "product_file_path = f'{extract_to_directory}\\product.txt'\n",
    "package_file_path = f'{extract_to_directory}\\package.txt'\n",
    "\n",
    "# Assuming your text file is tab-separated (use delimiter='\\t' for tab-separated files)\n",
    "df1 = pd.read_csv(product_file_path, delimiter='\\t', encoding= 'unicode_escape')\n",
    "df1 = df1.fillna('')\n",
    "df1.to_excel(f'{final_output_path}/product.xlsx', index=False)\n",
    "\n",
    "df2 = pd.read_csv(package_file_path, delimiter='\\t')\n",
    "df2 = df2.fillna('')"
   ]
  },
  {
   "cell_type": "markdown",
   "metadata": {},
   "source": [
    "## Working on previous file"
   ]
  },
  {
   "cell_type": "code",
   "execution_count": 19,
   "metadata": {},
   "outputs": [],
   "source": [
    "def extract_and_process_codes(df):\n",
    "    '''Description: The code extracts and processes codes from the 'PACKAGEDESCRIPTION' column, creates a new DataFrame by exploding the codes, \n",
    "    and returns a cleaned and modified DataFrame.'''\n",
    "    df = df.fillna('')\n",
    "    df['matched_pattern'] = ''\n",
    "    def getting_codes(search_string):\n",
    "        codes_ = (', ').join(i.group() for i in re.finditer(f'\\(([0-9-])+\\)', search_string))\n",
    "        return codes_\n",
    "\n",
    "    df['matched_pattern'] = df.PACKAGEDESCRIPTION.apply(getting_codes)\n",
    "\n",
    "    df['new_code'] =''\n",
    "\n",
    "    for i in range(len(df)):\n",
    "        new_code = df['matched_pattern'].iloc[i].replace(df['NDCPACKAGECODE'].iloc[i], '').replace('(','').replace(')','').replace(',','').strip()\n",
    "        df.loc[i, 'new_code'] = new_code\n",
    "\n",
    "    ### Creating a new dataframe (wp) and doing changes accordingly | Final Dataframe: nf\n",
    "    wp = df[df['new_code']!='']\n",
    "\n",
    "    def converting_to_list(x):\n",
    "        x = x.split()\n",
    "        return x \n",
    "\n",
    "    ndc_package_codes = wp['new_code'].apply(converting_to_list)\n",
    "    wp.loc[:, 'NDCPACKAGECODE'] = ndc_package_codes\n",
    "\n",
    "    wp = wp.explode('NDCPACKAGECODE').reset_index(drop=True)\n",
    "\n",
    "    ## nf dataframe ##\n",
    "    nf = pd.concat([df, wp], axis=0)\n",
    "    nf.drop(['matched_pattern', 'new_code'], axis=1, inplace=True)\n",
    "    nf.reset_index(drop=True, inplace=True)\n",
    "    nf['NDCPACKAGECODE'] = nf['NDCPACKAGECODE'].str.strip()\n",
    "    \n",
    "    return nf"
   ]
  },
  {
   "cell_type": "code",
   "execution_count": 20,
   "metadata": {},
   "outputs": [
    {
     "name": "stdout",
     "output_type": "stream",
     "text": [
      "Processing File: package.txt\n",
      "Completed\n"
     ]
    }
   ],
   "source": [
    "print(f'Processing File: package.txt')\n",
    "df2 = extract_and_process_codes(df2)\n",
    "df2.to_excel(f'{final_output_path}/package.xlsx', index=False)\n",
    "\n",
    "# removing - zip_download_directory if available | Removing any Previous Files\n",
    "if zip_download_directory in os.listdir():\n",
    "    shutil.rmtree(zip_download_directory)\n",
    "\n",
    "print(f'Completed')"
   ]
  }
 ],
 "metadata": {
  "kernelspec": {
   "display_name": "Python 3",
   "language": "python",
   "name": "python3"
  },
  "language_info": {
   "codemirror_mode": {
    "name": "ipython",
    "version": 3
   },
   "file_extension": ".py",
   "mimetype": "text/x-python",
   "name": "python",
   "nbconvert_exporter": "python",
   "pygments_lexer": "ipython3",
   "version": "3.10.8"
  },
  "orig_nbformat": 4
 },
 "nbformat": 4,
 "nbformat_minor": 2
}
