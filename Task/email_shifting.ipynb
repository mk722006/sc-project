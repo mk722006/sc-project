{
 "cells": [
  {
   "cell_type": "code",
   "execution_count": 1,
   "metadata": {},
   "outputs": [
    {
     "name": "stderr",
     "output_type": "stream",
     "text": [
      "C:\\Users\\algo\\AppData\\Local\\Temp\\ipykernel_9464\\2054399671.py:4: DtypeWarning: Columns (25) have mixed types. Specify dtype option on import or set low_memory=False.\n",
      "  input_file_1_df = pd.read_csv('C:/Users/algo/Desktop/VS Code/Task/Philly Deals to email append._processed.csv')\n"
     ]
    }
   ],
   "source": [
    "import pandas as pd\n",
    "\n",
    "# Read the first file (CSV)\n",
    "input_file_1_df = pd.read_csv('C:/Users/algo/Desktop/VS Code/Task/Philly Deals to email append._processed.csv')\n",
    "\n",
    "# Read the second file (Excel)\n",
    "input_file_2_df = pd.read_excel('C:/Users/algo/Desktop/VS Code/Task/sql_phoenix_20230921_141556.xlsx')\n",
    "\n",
    "\n",
    "# Define a function to find the first empty email column in file2\n",
    "def find_empty_email_column(matching_row):\n",
    "    for i in range(2, 6):\n",
    "        email_column = f\"Email{i}\"\n",
    "        if pd.isna(matching_row[email_column]):\n",
    "            return email_column\n",
    "    return None\n",
    "\n",
    "# Define a function to clean a column and make it a unique key\n",
    "def clean_and_make_unique_key(df, column_name):\n",
    "    if column_name in df.columns:\n",
    "        if df[column_name].dtype == 'object':  # Check if the column contains string values\n",
    "            df[column_name] = df[column_name].str.strip()  # Remove leading/trailing spaces\n",
    "            df[column_name] = df[column_name].str.upper()  # Convert to uppercase for case-insensitive comparison\n",
    "        df[column_name] = df[column_name].fillna('')    # Replace NaN values with empty string\n",
    "        df[column_name] = df[column_name].drop_duplicates(keep='first')\n",
    "    return df\n",
    "\n",
    "\n",
    "# Clean and make unique keys for both DataFrames\n",
    "composite_key = [\"Business Name\", \"Address\", \"City\", \"State\", \"Postal Code\", \"Phone\"]\n",
    "for column in composite_key:\n",
    "    input_file_1_df = clean_and_make_unique_key(input_file_1_df, column)\n",
    "    input_file_2_df = clean_and_make_unique_key(input_file_2_df, column)\n",
    "\n",
    "# Define a function to create a composite key from multiple columns\n",
    "def create_composite_key(row):\n",
    "    key_values = [str(row[column]) for column in composite_key if column in row.index]\n",
    "    return '|'.join(key_values)\n",
    "\n",
    "\n",
    "# Create the composite key column in both DataFrames\n",
    "input_file_1_df['Composite Key'] = input_file_1_df.apply(create_composite_key, axis=1)\n",
    "input_file_2_df['Composite Key'] = input_file_2_df.apply(create_composite_key, axis=1)\n",
    "\n",
    "# Iterate through the rows in file1 and update corresponding rows in file2\n",
    "for _, row in input_file_1_df.iterrows():\n",
    "    composite_key_value = row['Composite Key']\n",
    "    \n",
    "    # Create a mask to filter rows in file2 that match the composite key\n",
    "    mask = (input_file_2_df['Composite Key'] == composite_key_value)\n",
    "    \n",
    "    # Check if a matching row exists in file2\n",
    "    matching_rows = input_file_2_df[mask]\n",
    "    if not matching_rows.empty:\n",
    "        # Check if the email in file1 is different from the emails in file2\n",
    "        if row[\"Email\"] != matching_rows.iloc[0][\"Email\"]:\n",
    "            # Find the first empty email column in file2\n",
    "            empty_email_column = find_empty_email_column(matching_rows.iloc[0])\n",
    "            if empty_email_column:\n",
    "                # Move existing email data to the next available email column in file2\n",
    "                for i in range(5, int(empty_email_column[-1]), -1):\n",
    "                    input_file_2_df.at[matching_rows.index[0], f\"Email{i}\"] = input_file_2_df.at[matching_rows.index[0], f\"Email{i-1}\"]\n",
    "                # Fill the empty email column in file2 with the email from file1\n",
    "                input_file_2_df.at[matching_rows.index[0], empty_email_column] = row[\"Email\"]\n",
    "# Save the updated file2 DataFrame back to an Excel file\n",
    "input_file_2_df.to_excel('output.xlsx', index=False)\n"
   ]
  }
 ],
 "metadata": {
  "kernelspec": {
   "display_name": "Python 3",
   "language": "python",
   "name": "python3"
  },
  "language_info": {
   "codemirror_mode": {
    "name": "ipython",
    "version": 3
   },
   "file_extension": ".py",
   "mimetype": "text/x-python",
   "name": "python",
   "nbconvert_exporter": "python",
   "pygments_lexer": "ipython3",
   "version": "3.10.8"
  },
  "orig_nbformat": 4
 },
 "nbformat": 4,
 "nbformat_minor": 2
}
